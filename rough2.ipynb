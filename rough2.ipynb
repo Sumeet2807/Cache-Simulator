{
 "cells": [
  {
   "cell_type": "code",
   "execution_count": 6,
   "metadata": {},
   "outputs": [
    {
     "name": "stdout",
     "output_type": "stream",
     "text": [
      "True\n",
      "10075\n",
      "14.709112558615676\n",
      "18.873409468820157\n"
     ]
    }
   ],
   "source": [
    "from parameters import *\n",
    "from cache import *\n",
    "from infra import *\n",
    "from events import *\n",
    "import numpy as np\n",
    "\n",
    "\n",
    "POISSON_PROCESS_NEW_REQUESTS_LAMBDA = 100\n",
    "PARETO_PROCESS_NEW_FILE_SIZE_A = 2\n",
    "PARETO_PROCESS_FILE_POPULARITY_A = 1\n",
    "LOGNORMAL_PROCESS_ARRIVE_AT_QUEUE_MEAN = 0.5\n",
    "LOGNORMAL_PROCESS_ARRIVE_AT_QUEUE_SIGMA = 0.4\n",
    "\n",
    "TOTAL_NO_OF_FILES = 10000\n",
    "INSTITUTIONAL_BANDWIDTH = 1000\n",
    "ACCESS_LINK_BANDWIDTH = 15\n",
    "TOTAL_TIME_TO_RUN = 100\n",
    "CACHE_CAPACITY = 50\n",
    "CACHE_MAX_ALLOWED_FILE_SIZE = 20\n",
    "\n",
    "\n",
    "# initialize simulator environment\n",
    "# np.random.seed(11)\n",
    "files = Files()\n",
    "cache = LRU_Cache(files)\n",
    "# cache = Cache(files)\n",
    "\n",
    "sim = Simulator_Env(files,cache)\n",
    "\n",
    "#initialize new req events to be processed at every second\n",
    "for i in range(TOTAL_TIME_TO_RUN):\n",
    "    E_get_new_reqs(sim,i)\n",
    "\n",
    "\n",
    "#Main simulator loop\n",
    "while(len(sim.sim_q.q)):\n",
    "\n",
    "    e = sim.sim_q.pop()\n",
    "    e.process()\n",
    "    \n",
    "\n",
    "print(len(sim.log) == sim.req_count)\n",
    "\n",
    "print(sim.req_count)\n",
    "print(np.mean(sim.get_total_times_for_reqs()))\n",
    "print(np.mean(sim.queue_delays))"
   ]
  }
 ],
 "metadata": {
  "interpreter": {
   "hash": "60cd1b893aee727141929709cd125bb2805fd7362ca3e8ee05370852b8183379"
  },
  "kernelspec": {
   "display_name": "Python 3.9.7 ('ml')",
   "language": "python",
   "name": "python3"
  },
  "language_info": {
   "codemirror_mode": {
    "name": "ipython",
    "version": 3
   },
   "file_extension": ".py",
   "mimetype": "text/x-python",
   "name": "python",
   "nbconvert_exporter": "python",
   "pygments_lexer": "ipython3",
   "version": "3.9.7"
  },
  "orig_nbformat": 4
 },
 "nbformat": 4,
 "nbformat_minor": 2
}
