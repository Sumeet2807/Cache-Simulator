{
 "cells": [
  {
   "cell_type": "code",
   "execution_count": 7,
   "metadata": {},
   "outputs": [],
   "source": [
    "import heapq as h\n",
    "import numpy as np\n",
    "\n",
    "POISSON_PROCESS_NEW_REQUESTS_LAMBDA = 1\n",
    "PARETO_PROCESS_NEW_FILE_SIZE_A = 1\n",
    "INSTITUTIONAL_BANDWIDTH = 100\n",
    "\n",
    "class Simulation_Q():\n",
    "    def __init__(self):\n",
    "        self.q = []\n",
    "    \n",
    "    def push(self, event_tuple:tuple):\n",
    "        h.heappush(self.q,event_tuple)\n",
    "\n",
    "    def pop(self):\n",
    "        return h.heappop(self.q)[1]\n",
    "\n",
    "class Event:\n",
    "\n",
    "    def __init__(self, sim_q: Simulation_Q, time_now: int):\n",
    "        self.sim_q = sim_q\n",
    "        self.time_now = time_now\n",
    "        self.__enqueue__()\n",
    "\n",
    "    def __enqueue__(self):\n",
    "        pass\n",
    "\n",
    "\n",
    "    def process(self):\n",
    "        pass\n",
    "\n",
    "class E_new_req(Event):\n",
    "    def __enqueue__(self):\n",
    "        self.size = np.random.pareto(PARETO_PROCESS_NEW_FILE_SIZE_A)        \n",
    "        self.process_time = self.time_now + (self.size/INSTITUTIONAL_BANDWIDTH)\n",
    "        self.sim_q.push([self.process_time,self])\n",
    "\n",
    "\n",
    "class E_get_new_reqs(Event):\n",
    "\n",
    "    def __enqueue__(self):\n",
    "        self.process_time = self.time_now\n",
    "        self.sim_q.push([self.process_time,self])\n",
    "\n",
    "    def process(self):\n",
    "        reqs_to_handle = np.random.poisson(POISSON_PROCESS_NEW_REQUESTS_LAMBDA)\n",
    "        for i in reqs_to_handle:\n",
    "            E_new_req(self.sim_q,self.time_now)\n",
    "\n",
    "\n",
    "\n"
   ]
  },
  {
   "cell_type": "code",
   "execution_count": null,
   "metadata": {},
   "outputs": [],
   "source": [
    "sim_q = Simulation_Q()\n",
    "a = E_get_new_req(sim_q,8)\n",
    "\n"
   ]
  }
 ],
 "metadata": {
  "interpreter": {
   "hash": "0ca4fa896740cdf9b5278ecd42212927da2ae9b32b6ec5699b862edf50dd507e"
  },
  "kernelspec": {
   "display_name": "Python 3.9.7 ('base')",
   "language": "python",
   "name": "python3"
  },
  "language_info": {
   "codemirror_mode": {
    "name": "ipython",
    "version": 3
   },
   "file_extension": ".py",
   "mimetype": "text/x-python",
   "name": "python",
   "nbconvert_exporter": "python",
   "pygments_lexer": "ipython3",
   "version": "3.9.7"
  },
  "orig_nbformat": 4
 },
 "nbformat": 4,
 "nbformat_minor": 2
}
